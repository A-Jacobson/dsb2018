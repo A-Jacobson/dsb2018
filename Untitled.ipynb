{
 "cells": [
  {
   "cell_type": "code",
   "execution_count": 6,
   "metadata": {},
   "outputs": [],
   "source": [
    "import torch\n",
    "import numpy as np\n",
    "import matplotlib.pyplot as plt\n",
    "%matplotlib inline"
   ]
  },
  {
   "cell_type": "code",
   "execution_count": 30,
   "metadata": {},
   "outputs": [],
   "source": [
    "targets = torch.Tensor([0, 1, 0, 0])"
   ]
  },
  {
   "cell_type": "code",
   "execution_count": 31,
   "metadata": {},
   "outputs": [],
   "source": [
    "preds = torch.Tensor([0.5, 0.1, 0.3, 0.1])"
   ]
  },
  {
   "cell_type": "code",
   "execution_count": 32,
   "metadata": {},
   "outputs": [
    {
     "data": {
      "text/plain": [
       "0.360000004991889"
      ]
     },
     "execution_count": 32,
     "metadata": {},
     "output_type": "execute_result"
    }
   ],
   "source": [
    "(preds * preds).sum()"
   ]
  },
  {
   "cell_type": "code",
   "execution_count": 33,
   "metadata": {},
   "outputs": [
    {
     "data": {
      "text/plain": [
       "0.35999998450279236"
      ]
     },
     "execution_count": 33,
     "metadata": {},
     "output_type": "execute_result"
    }
   ],
   "source": [
    "preds @ preds"
   ]
  },
  {
   "cell_type": "code",
   "execution_count": 34,
   "metadata": {},
   "outputs": [],
   "source": [
    "preds = torch.Tensor([0, 1, 0, 0])"
   ]
  },
  {
   "cell_type": "code",
   "execution_count": 35,
   "metadata": {},
   "outputs": [
    {
     "data": {
      "text/plain": [
       "1.0"
      ]
     },
     "execution_count": 35,
     "metadata": {},
     "output_type": "execute_result"
    }
   ],
   "source": [
    "preds @ preds"
   ]
  },
  {
   "cell_type": "code",
   "execution_count": 40,
   "metadata": {},
   "outputs": [
    {
     "data": {
      "text/plain": [
       "array([ 13.81551056,   3.8917723 ,   3.19864962,   2.79319268,\n",
       "         2.50551469,   2.28237359,   2.10005366,   1.94590415,\n",
       "         1.81237363,   1.69459128,   1.58923131,   1.49392157,\n",
       "         1.40691056,   1.32686817,   1.25276047,   1.18376783,\n",
       "         1.11922951,   1.05860507,   1.00144682,   0.94737974,\n",
       "         0.89608657,   0.84729653,   0.80077662,   0.75632495,\n",
       "         0.71376543,   0.67294351,   0.63372288,   0.59598262,\n",
       "         0.55961504,   0.52452378,   0.49062228,   0.45783251,\n",
       "         0.42608386,   0.39531225,   0.36545933,   0.33647184,\n",
       "         0.308301  ,   0.28090206,   0.25423385,   0.2282584 ,\n",
       "         0.20294062,   0.17824804,   0.15415051,   0.13062004,\n",
       "         0.10763055,   0.08515772,   0.06317884,   0.04167265,\n",
       "         0.02061927,  -0.        ])"
      ]
     },
     "execution_count": 40,
     "metadata": {},
     "output_type": "execute_result"
    }
   ],
   "source": [
    " - np.log(np.linspace(0.000001, 1, num=50))"
   ]
  },
  {
   "cell_type": "code",
   "execution_count": 48,
   "metadata": {},
   "outputs": [
    {
     "name": "stderr",
     "output_type": "stream",
     "text": [
      "/home/austin/anaconda3/envs/pytorch/lib/python3.6/site-packages/ipykernel_launcher.py:1: RuntimeWarning: divide by zero encountered in log\n",
      "  \"\"\"Entry point for launching an IPython kernel.\n"
     ]
    },
    {
     "data": {
      "image/png": "[encoded data removed]",
      "text/plain": [
       "<matplotlib.figure.Figure at 0x7fa9e0b8ceb8>"
      ]
     },
     "metadata": {},
     "output_type": "display_data"
    }
   ],
   "source": [
    "plt.plot( - np.log(np.linspace(0, 1, num=5000)));"
   ]
  },
  {
   "cell_type": "code",
   "execution_count": 46,
   "metadata": {},
   "outputs": [
    {
     "data": {
      "text/plain": [
       "6.9077552789821368"
      ]
     },
     "execution_count": 46,
     "metadata": {},
     "output_type": "execute_result"
    }
   ],
   "source": [
    "- np.log(0.001)"
   ]
  },
  {
   "cell_type": "code",
   "execution_count": 1,
   "metadata": {},
   "outputs": [],
   "source": [
    "import numpy as np"
   ]
  },
  {
   "cell_type": "code",
   "execution_count": 4,
   "metadata": {},
   "outputs": [
    {
     "data": {
      "text/plain": [
       "array([[ 0,  0,  0, ..., 13, 13, 13],\n",
       "       [ 0,  0,  0, ..., 13, 13, 13],\n",
       "       [ 0,  0,  0, ..., 13, 13, 13],\n",
       "       ..., \n",
       "       [ 0,  0,  0, ...,  0,  0,  0],\n",
       "       [ 0,  0,  0, ...,  0,  0,  0],\n",
       "       [ 0,  0,  0, ...,  0,  0,  0]], dtype=int32)"
      ]
     },
     "execution_count": 4,
     "metadata": {},
     "output_type": "execute_result"
    }
   ],
   "source": [
    "np.load('0a7d30b252359a10fd298b638b90cb9ada3acced4e0c0e5a3692013f432ee4e9.npy')"
   ]
  },
  {
   "cell_type": "code",
   "execution_count": 7,
   "metadata": {},
   "outputs": [
    {
     "data": {
      "text/plain": [
       "<matplotlib.image.AxesImage at 0x7f369223a470>"
      ]
     },
     "execution_count": 7,
     "metadata": {},
     "output_type": "execute_result"
    },
    {
     "data": {
      "image/png": "[encoded data removed]",
      "text/plain": [
       "<matplotlib.figure.Figure at 0x7f36f0239278>"
      ]
     },
     "metadata": {},
     "output_type": "display_data"
    }
   ],
   "source": [
    "plt.imshow(np.load('0a7d30b252359a10fd298b638b90cb9ada3acced4e0c0e5a3692013f432ee4e9.npy'))"
   ]
  },
  {
   "cell_type": "code",
   "execution_count": 8,
   "metadata": {},
   "outputs": [],
   "source": [
    "def make_bases(base_size, base_apsect_ratios):\n",
    "    bases = []\n",
    "    for ratio in base_apsect_ratios:\n",
    "        w = ratio[0] * base_size\n",
    "        h = ratio[1] * base_size\n",
    "        rw = round(w / 2)\n",
    "        rh = round(h / 2)\n",
    "        base = (-rw, -rh, rw, rh,)\n",
    "        bases.append(base)\n",
    "\n",
    "    bases = np.array(bases, np.float32)\n",
    "    return bases\n"
   ]
  },
  {
   "cell_type": "code",
   "execution_count": 9,
   "metadata": {},
   "outputs": [],
   "source": [
    "import itertools"
   ]
  },
  {
   "cell_type": "code",
   "execution_count": 15,
   "metadata": {},
   "outputs": [
    {
     "name": "stdout",
     "output_type": "stream",
     "text": [
      "1 (1, 2)\n",
      "1 (2, 3)\n",
      "2 (1, 2)\n",
      "2 (2, 3)\n",
      "3 (1, 2)\n",
      "3 (2, 3)\n"
     ]
    }
   ],
   "source": [
    "for i, j in itertools.product([1, 2, 3], [(1, 2), (2, 3)]):\n",
    "    print(i, j)"
   ]
  },
  {
   "cell_type": "code",
   "execution_count": 18,
   "metadata": {},
   "outputs": [
    {
     "data": {
      "text/plain": [
       "array([[ 0., -1.,  0.,  1.],\n",
       "       [-1., -2.,  1.,  2.]], dtype=float32)"
      ]
     },
     "execution_count": 18,
     "metadata": {},
     "output_type": "execute_result"
    }
   ],
   "source": [
    "make_bases(1, [(1, 2), (2, 3)])"
   ]
  },
  {
   "cell_type": "code",
   "execution_count": 19,
   "metadata": {},
   "outputs": [],
   "source": [
    "def generate_anchors(base_size=16, ratios=np.array([0.5, 1, 2]),\n",
    "                     scales=np.array([2 ** 0, 2 ** (1.0 / 3.0), 2 ** (2.0 / 3.0)])):\n",
    "    \"\"\"\n",
    "    Generates anchors(x1, y1, x2, y2) for one window.\n",
    "    \"\"\"\n",
    "    num_anchors = len(ratios) * len(scales)\n",
    "\n",
    "    # initialize output anchors\n",
    "    anchors = np.zeros((num_anchors, 4))\n",
    "\n",
    "    # scale base_size\n",
    "    anchors[:, 2:] = base_size * np.tile(scales, (2, len(ratios))).T\n",
    "\n",
    "    # compute areas of anchors\n",
    "    areas = anchors[:, 2] * anchors[:, 3]\n",
    "\n",
    "    # correct for ratios\n",
    "    anchors[:, 2] = np.sqrt(areas / np.repeat(ratios, len(scales)))\n",
    "    anchors[:, 3] = anchors[:, 2] * np.repeat(ratios, len(scales))\n",
    "\n",
    "    # transform from (x_ctr, y_ctr, w, h) -> (x1, y1, x2, y2)\n",
    "    anchors[:, 0::2] -= np.tile(anchors[:, 2] * 0.5, (2, 1)).T\n",
    "    anchors[:, 1::2] -= np.tile(anchors[:, 3] * 0.5, (2, 1)).T\n",
    "\n",
    "    return anchors"
   ]
  },
  {
   "cell_type": "code",
   "execution_count": 35,
   "metadata": {},
   "outputs": [],
   "source": [
    "from utils.object_detection import anchors_for_shape"
   ]
  },
  {
   "cell_type": "code",
   "execution_count": 41,
   "metadata": {},
   "outputs": [
    {
     "data": {
      "text/plain": [
       "array([[-298.03867197, -117.01933598,  426.03867197,  245.01933598],\n",
       "       [-392.14014369, -164.07007184,  520.14014369,  292.07007184],\n",
       "       [-510.70056873, -223.35028437,  638.70056873,  351.35028437],\n",
       "       [-192.        , -192.        ,  320.        ,  320.        ],\n",
       "       [-258.53978877, -258.53978877,  386.53978877,  386.53978877],\n",
       "       [-342.3746693 , -342.3746693 ,  470.3746693 ,  470.3746693 ],\n",
       "       [-117.01933598, -298.03867197,  245.01933598,  426.03867197],\n",
       "       [-164.07007184, -392.14014369,  292.07007184,  520.14014369],\n",
       "       [-223.35028437, -510.70056873,  351.35028437,  638.70056873],\n",
       "       [-170.03867197, -117.01933598,  554.03867197,  245.01933598],\n",
       "       [-264.14014369, -164.07007184,  648.14014369,  292.07007184],\n",
       "       [-382.70056873, -223.35028437,  766.70056873,  351.35028437],\n",
       "       [ -64.        , -192.        ,  448.        ,  320.        ],\n",
       "       [-130.53978877, -258.53978877,  514.53978877,  386.53978877],\n",
       "       [-214.3746693 , -342.3746693 ,  598.3746693 ,  470.3746693 ],\n",
       "       [  10.98066402, -298.03867197,  373.01933598,  426.03867197],\n",
       "       [ -36.07007184, -392.14014369,  420.07007184,  520.14014369],\n",
       "       [ -95.35028437, -510.70056873,  479.35028437,  638.70056873]])"
      ]
     },
     "execution_count": 41,
     "metadata": {},
     "output_type": "execute_result"
    }
   ],
   "source": [
    "anchors_for_shape([3, 255, 255], pyramid_levels=[7])"
   ]
  },
  {
   "cell_type": "code",
   "execution_count": null,
   "metadata": {},
   "outputs": [],
   "source": []
  }
 ],
 "metadata": {
  "kernelspec": {
   "display_name": "Python 3",
   "language": "python",
   "name": "python3"
  },
  "language_info": {
   "codemirror_mode": {
    "name": "ipython",
    "version": 3
   },
   "file_extension": ".py",
   "mimetype": "text/x-python",
   "name": "python",
   "nbconvert_exporter": "python",
   "pygments_lexer": "ipython3",
   "version": "3.6.1"
  }
 },
 "nbformat": 4,
 "nbformat_minor": 2
}
